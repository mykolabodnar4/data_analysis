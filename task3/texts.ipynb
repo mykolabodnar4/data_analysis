{
 "cells": [
  {
   "cell_type": "code",
   "execution_count": 2,
   "id": "93f49d7c-4d18-472f-a972-c9d4403851d1",
   "metadata": {},
   "outputs": [],
   "source": [
    "import pandas as pd\n",
    "import numpy as np\n",
    "import string\n",
    "import re\n",
    "import nltk\n",
    "from nltk.stem import WordNetLemmatizer\n",
    "from nltk.tokenize import word_tokenize\n",
    "from nltk.corpus import stopwords"
   ]
  },
  {
   "cell_type": "code",
   "execution_count": 3,
   "id": "ee9302f3-c935-4c35-bdb6-571cde513bb5",
   "metadata": {},
   "outputs": [
    {
     "name": "stdout",
     "output_type": "stream",
     "text": [
      "                                               Review     label\n",
      "0   Great music service, the audio is high quality...  POSITIVE\n",
      "1   Please ignore previous negative rating. This a...  POSITIVE\n",
      "2   This pop-up \"Get the best Spotify experience o...  NEGATIVE\n",
      "3     Really buggy and terrible to use as of recently  NEGATIVE\n",
      "4   Dear Spotify why do I get songs that I didn't ...  NEGATIVE\n",
      "5   The player controls sometimes disappear for no...  NEGATIVE\n",
      "6   I love the selection and the lyrics are provid...  POSITIVE\n",
      "7   Still extremely slow when changing storage to ...  NEGATIVE\n",
      "8   It's a great app and the best mp3 music app I ...  POSITIVE\n",
      "9   I'm deleting this app, for the following reaso...  NEGATIVE\n",
      "10                    Can't play Spotify when on WiFi  NEGATIVE\n",
      "11  I had amazon premium music family package and ...  NEGATIVE\n",
      "12  Worst app always says I'm offline and never sh...  NEGATIVE\n",
      "13        i hav any music that i like it is superðŸ™Œ  POSITIVE\n",
      "14  Improve the IA to recommend songs and to find ...  POSITIVE\n",
      "15  Android user - there are loads of glitches wit...  NEGATIVE\n",
      "16  I can't listen to my DOWNLOADED playlist while...  NEGATIVE\n",
      "17  It always crashing down; unable to play and ju...  NEGATIVE\n",
      "18  I know ads are the cost to free use And yes th...  NEGATIVE\n",
      "19  This will always be my favorite platform to li...  POSITIVE\n",
      "<class 'pandas.core.frame.DataFrame'>\n",
      "RangeIndex: 52702 entries, 0 to 52701\n",
      "Data columns (total 2 columns):\n",
      " #   Column  Non-Null Count  Dtype \n",
      "---  ------  --------------  ----- \n",
      " 0   Review  52686 non-null  object\n",
      " 1   label   52702 non-null  object\n",
      "dtypes: object(2)\n",
      "memory usage: 823.6+ KB\n",
      "None\n"
     ]
    }
   ],
   "source": [
    "reviews = pd.read_csv('./spotify_app_reviews_dataset.csv', encoding='utf8')\n",
    "print(reviews.head(20))\n",
    "print(reviews.info())"
   ]
  },
  {
   "cell_type": "code",
   "execution_count": 4,
   "id": "563e2c71-1ec7-4089-9bcf-7f522a35eb56",
   "metadata": {},
   "outputs": [],
   "source": [
    "reviews['Review'] = reviews['Review'].astype(str).apply(lambda r: r.lower())\n",
    "# remove punctuation\n",
    "reviews['Review'] = reviews['Review'].apply(lambda r: r.translate(str.maketrans('', '', string.punctuation)))\n",
    "# remove noise like ðŸ™Œ\n",
    "reviews['Review'] = reviews['Review'].astype(str).apply(lambda r: re.sub('[^A-Za-z0-9 ]+', '', r))\n"
   ]
  },
  {
   "cell_type": "code",
   "execution_count": 5,
   "id": "c320fe8f-097e-4941-9104-21d54dcc6561",
   "metadata": {},
   "outputs": [
    {
     "data": {
      "text/plain": [
       "0     great music service the audio is high quality ...\n",
       "1     please ignore previous negative rating this ap...\n",
       "2     this popup get the best spotify experience on ...\n",
       "3       really buggy and terrible to use as of recently\n",
       "4     dear spotify why do i get songs that i didnt p...\n",
       "5     the player controls sometimes disappear for no...\n",
       "6     i love the selection and the lyrics are provid...\n",
       "7     still extremely slow when changing storage to ...\n",
       "8     its a great app and the best mp3 music app i h...\n",
       "9     im deleting this app for the following reasons...\n",
       "10                       cant play spotify when on wifi\n",
       "11    i had amazon premium music family package and ...\n",
       "12    worst app always says im offline and never sho...\n",
       "13              i hav any music that i like it is super\n",
       "14    improve the ia to recommend songs and to find ...\n",
       "15    android user  there are loads of glitches with...\n",
       "16    i cant listen to my downloaded playlist while ...\n",
       "17    it always crashing down unable to play and jus...\n",
       "18    i know ads are the cost to free use and yes th...\n",
       "19    this will always be my favorite platform to li...\n",
       "Name: Review, dtype: object"
      ]
     },
     "execution_count": 5,
     "metadata": {},
     "output_type": "execute_result"
    }
   ],
   "source": [
    "reviews['Review'].head(20)"
   ]
  },
  {
   "cell_type": "code",
   "execution_count": 6,
   "id": "ac13a1b3-1a2f-4463-87a2-22a04c38c838",
   "metadata": {},
   "outputs": [
    {
     "name": "stdout",
     "output_type": "stream",
     "text": [
      "Counter({'NEGATIVE': 29423, 'POSITIVE': 23279})\n",
      "Counter({0: 29423, 1: 23279})\n"
     ]
    },
    {
     "name": "stderr",
     "output_type": "stream",
     "text": [
      "C:\\Users\\roman.bodnar2\\AppData\\Local\\Temp\\ipykernel_10476\\1029458943.py:10: FutureWarning: Downcasting behavior in `replace` is deprecated and will be removed in a future version. To retain the old behavior, explicitly call `result.infer_objects(copy=False)`. To opt-in to the future behavior, set `pd.set_option('future.no_silent_downcasting', True)`\n",
      "  reviews['label'] = reviews['label'].astype(str).replace(label_map).astype(int)\n"
     ]
    }
   ],
   "source": [
    "from collections import Counter\n",
    "\n",
    "print(Counter(reviews['label']))\n",
    "\n",
    "label_map = {\n",
    "    'NEGATIVE': 0,\n",
    "    'POSITIVE': 1\n",
    "}\n",
    "\n",
    "reviews['label'] = reviews['label'].astype(str).replace(label_map).astype(int)\n",
    "print(Counter(reviews['label']))\n"
   ]
  },
  {
   "cell_type": "code",
   "execution_count": 7,
   "id": "d1116e88-927d-4519-8b7e-4e6d033fb286",
   "metadata": {},
   "outputs": [
    {
     "name": "stdout",
     "output_type": "stream",
     "text": [
      "(33728, 273) (33728,)\n",
      "(8433, 273) (8433,)\n",
      "(10541, 273) (10541,)\n"
     ]
    }
   ],
   "source": [
    "from sklearn.model_selection import train_test_split\n",
    "from tensorflow.keras.preprocessing.text import Tokenizer\n",
    "from tensorflow.keras.preprocessing.sequence import pad_sequences\n",
    "\n",
    "X = reviews['Review']\n",
    "y = reviews['label']\n",
    "\n",
    "tokenizer = Tokenizer()\n",
    "tokenizer.fit_on_texts(X)\n",
    "\n",
    "X_seq = tokenizer.texts_to_sequences(X)\n",
    "X_pad = pad_sequences(X_seq, padding='post')\n",
    "\n",
    "X_train, X_test, y_train, y_test = train_test_split(X_pad, y, test_size=0.2, random_state=17)\n",
    "X_train, X_val, y_train, y_val = train_test_split(X_train, y_train, test_size=0.2, random_state=17)\n",
    "\n",
    "print(X_train.shape, y_train.shape)\n",
    "print(X_val.shape, y_val.shape)\n",
    "print(X_test.shape, y_test.shape)"
   ]
  },
  {
   "cell_type": "code",
   "execution_count": 8,
   "id": "04207b01-32bc-42f6-b500-e26884cd5b2b",
   "metadata": {},
   "outputs": [
    {
     "name": "stdout",
     "output_type": "stream",
     "text": [
      "Epoch 1/5\n",
      "\u001b[1m1054/1054\u001b[0m \u001b[32m━━━━━━━━━━━━━━━━━━━━\u001b[0m\u001b[37m\u001b[0m \u001b[1m254s\u001b[0m 239ms/step - accuracy: 0.5457 - loss: 0.6892 - val_accuracy: 0.5559 - val_loss: 0.6870\n",
      "Epoch 2/5\n",
      "\u001b[1m1054/1054\u001b[0m \u001b[32m━━━━━━━━━━━━━━━━━━━━\u001b[0m\u001b[37m\u001b[0m \u001b[1m250s\u001b[0m 237ms/step - accuracy: 0.5610 - loss: 0.6864 - val_accuracy: 0.5559 - val_loss: 0.6869\n",
      "Epoch 3/5\n",
      "\u001b[1m1054/1054\u001b[0m \u001b[32m━━━━━━━━━━━━━━━━━━━━\u001b[0m\u001b[37m\u001b[0m \u001b[1m247s\u001b[0m 235ms/step - accuracy: 0.5554 - loss: 0.6870 - val_accuracy: 0.5559 - val_loss: 0.6872\n",
      "Epoch 4/5\n",
      "\u001b[1m1054/1054\u001b[0m \u001b[32m━━━━━━━━━━━━━━━━━━━━\u001b[0m\u001b[37m\u001b[0m \u001b[1m248s\u001b[0m 236ms/step - accuracy: 0.5599 - loss: 0.6859 - val_accuracy: 0.5559 - val_loss: 0.6869\n",
      "Epoch 5/5\n",
      "\u001b[1m1054/1054\u001b[0m \u001b[32m━━━━━━━━━━━━━━━━━━━━\u001b[0m\u001b[37m\u001b[0m \u001b[1m249s\u001b[0m 236ms/step - accuracy: 0.5647 - loss: 0.6852 - val_accuracy: 0.5559 - val_loss: 0.6869\n"
     ]
    }
   ],
   "source": [
    "from tensorflow.keras.models import Sequential\n",
    "from tensorflow.keras import layers\n",
    "\n",
    "vocab_size = len(tokenizer.word_index) + 1  \n",
    "embedding_dim = 100\n",
    "\n",
    "simple_model = Sequential([\n",
    "    layers.Embedding(input_dim=vocab_size, output_dim=embedding_dim, trainable=False),\n",
    "    layers.LSTM(129, return_sequences=True),\n",
    "    layers.Dropout(0.5),\n",
    "    layers.LSTM(64),\n",
    "    layers.Dense(32, activation='relu'),\n",
    "    layers.Dropout(0.5),\n",
    "    layers.Dense(1, activation='sigmoid')\n",
    "])\n",
    "\n",
    "simple_model.compile(optimizer=\"adam\", loss=\"binary_crossentropy\", metrics=[\"accuracy\"])\n",
    "history = simple_model.fit(X_train, y_train, epochs=5, validation_data=(X_val, y_val))"
   ]
  },
  {
   "cell_type": "code",
   "execution_count": 9,
   "id": "69c150b9-de60-4ab1-8d3c-aabe44ae5228",
   "metadata": {},
   "outputs": [
    {
     "name": "stdout",
     "output_type": "stream",
     "text": [
      "\u001b[1m330/330\u001b[0m \u001b[32m━━━━━━━━━━━━━━━━━━━━\u001b[0m\u001b[37m\u001b[0m \u001b[1m29s\u001b[0m 89ms/step - accuracy: 0.5666 - loss: 0.6844\n",
      "Test accuracy : 0.559339702129364\n"
     ]
    }
   ],
   "source": [
    "loss, accuracy = simple_model.evaluate(X_test, y_test)\n",
    "print('Test accuracy :', accuracy)"
   ]
  },
  {
   "cell_type": "code",
   "execution_count": 10,
   "id": "9e1811a7-d5c4-41f0-8dd5-ac627f8b8d43",
   "metadata": {},
   "outputs": [
    {
     "name": "stdout",
     "output_type": "stream",
     "text": [
      "Epoch 1/5\n",
      "\u001b[1m1054/1054\u001b[0m \u001b[32m━━━━━━━━━━━━━━━━━━━━\u001b[0m\u001b[37m\u001b[0m \u001b[1m157s\u001b[0m 146ms/step - accuracy: 0.5587 - loss: 0.6877 - val_accuracy: 0.5559 - val_loss: 0.6869\n",
      "Epoch 2/5\n",
      "\u001b[1m1054/1054\u001b[0m \u001b[32m━━━━━━━━━━━━━━━━━━━━\u001b[0m\u001b[37m\u001b[0m \u001b[1m151s\u001b[0m 144ms/step - accuracy: 0.5558 - loss: 0.6872 - val_accuracy: 0.5559 - val_loss: 0.6869\n",
      "Epoch 3/5\n",
      "\u001b[1m1054/1054\u001b[0m \u001b[32m━━━━━━━━━━━━━━━━━━━━\u001b[0m\u001b[37m\u001b[0m \u001b[1m151s\u001b[0m 143ms/step - accuracy: 0.5588 - loss: 0.6868 - val_accuracy: 0.5559 - val_loss: 0.6869\n",
      "Epoch 4/5\n",
      "\u001b[1m1054/1054\u001b[0m \u001b[32m━━━━━━━━━━━━━━━━━━━━\u001b[0m\u001b[37m\u001b[0m \u001b[1m150s\u001b[0m 143ms/step - accuracy: 0.5594 - loss: 0.6867 - val_accuracy: 0.5559 - val_loss: 0.6869\n",
      "Epoch 5/5\n",
      "\u001b[1m1054/1054\u001b[0m \u001b[32m━━━━━━━━━━━━━━━━━━━━\u001b[0m\u001b[37m\u001b[0m \u001b[1m152s\u001b[0m 144ms/step - accuracy: 0.5595 - loss: 0.6861 - val_accuracy: 0.5559 - val_loss: 0.6869\n"
     ]
    }
   ],
   "source": [
    "embedding_dim = 50\n",
    "glove_file = './glove.6B.50d.txt'  \n",
    "embeddings_index = {}\n",
    "\n",
    "with open(glove_file, 'r', encoding='utf-8') as f:\n",
    "    for line in f:\n",
    "        values = line.split()\n",
    "        word = values[0]\n",
    "        coefs = np.asarray(values[1:], dtype='float32')\n",
    "        embeddings_index[word] = coefs\n",
    "\n",
    "embedding_matrix = np.zeros((vocab_size, embedding_dim))\n",
    "\n",
    "for word, i in tokenizer.word_index.items():\n",
    "    if i < vocab_size:\n",
    "        embedding_vector = embeddings_index.get(word)\n",
    "        if embedding_vector is not None:\n",
    "            embedding_matrix[i] = embedding_vector\n",
    "\n",
    "\n",
    "model_pretrained = Sequential([\n",
    "    layers.Embedding(input_dim=vocab_size, output_dim=embedding_dim, weights=[embedding_matrix], trainable=False),\n",
    "    layers.LSTM(64, return_sequences=True),\n",
    "    layers.Dropout(0.5),\n",
    "    layers.LSTM(64),\n",
    "    layers.Dense(32, activation='relu'),\n",
    "    layers.Dropout(0.5),\n",
    "    layers.Dense(1, activation='sigmoid')\n",
    "])\n",
    "\n",
    "model_pretrained.compile(optimizer='adam', loss='binary_crossentropy', metrics=['accuracy'])\n",
    "\n",
    "history_pretrained = model_pretrained.fit(X_train, y_train, epochs=5, batch_size=32, validation_data=(X_val, y_val))"
   ]
  },
  {
   "cell_type": "code",
   "execution_count": 11,
   "id": "b2bb6fbc-3cfe-46c3-9b0e-339cb6acfbb4",
   "metadata": {},
   "outputs": [
    {
     "name": "stdout",
     "output_type": "stream",
     "text": [
      "\u001b[1m330/330\u001b[0m \u001b[32m━━━━━━━━━━━━━━━━━━━━\u001b[0m\u001b[37m\u001b[0m \u001b[1m10s\u001b[0m 29ms/step - accuracy: 0.5666 - loss: 0.6845\n",
      "Test accuracy : 0.559339702129364\n"
     ]
    }
   ],
   "source": [
    "loss, accuracy = model_pretrained.evaluate(X_test, y_test)\n",
    "print('Test accuracy :', accuracy)"
   ]
  },
  {
   "cell_type": "code",
   "execution_count": null,
   "id": "acbea38d-f9e8-4439-b35f-34db39076b73",
   "metadata": {},
   "outputs": [],
   "source": []
  },
  {
   "cell_type": "code",
   "execution_count": null,
   "id": "90759859-b9cd-4c51-aa71-8819caf8c5bd",
   "metadata": {},
   "outputs": [],
   "source": []
  },
  {
   "cell_type": "code",
   "execution_count": null,
   "id": "1bc7b5f2-1bb7-49ba-887d-7195f9fe67fe",
   "metadata": {},
   "outputs": [],
   "source": []
  },
  {
   "cell_type": "code",
   "execution_count": null,
   "id": "cf714cd9-67cb-4a1e-8ff6-cef003ca9b54",
   "metadata": {},
   "outputs": [],
   "source": []
  }
 ],
 "metadata": {
  "kernelspec": {
   "display_name": "Python 3 (ipykernel)",
   "language": "python",
   "name": "python3"
  },
  "language_info": {
   "codemirror_mode": {
    "name": "ipython",
    "version": 3
   },
   "file_extension": ".py",
   "mimetype": "text/x-python",
   "name": "python",
   "nbconvert_exporter": "python",
   "pygments_lexer": "ipython3",
   "version": "3.12.6"
  }
 },
 "nbformat": 4,
 "nbformat_minor": 5
}
