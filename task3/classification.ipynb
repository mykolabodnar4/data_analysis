{
 "cells": [
  {
   "cell_type": "code",
   "execution_count": 183,
   "id": "3ca08c39-a5b6-4d67-bb9e-dcbdfb5434cb",
   "metadata": {},
   "outputs": [],
   "source": [
    "import numpy as np\n",
    "import pandas as pd\n",
    "import matplotlib.pyplot as plt"
   ]
  },
  {
   "cell_type": "code",
   "execution_count": 184,
   "id": "5a73562d-d5d0-4dad-8f7f-30e28054e1c3",
   "metadata": {},
   "outputs": [
    {
     "name": "stdout",
     "output_type": "stream",
     "text": [
      "   distance_from_home  distance_from_last_transaction  \\\n",
      "0           57.877857                        0.311140   \n",
      "1           10.829943                        0.175592   \n",
      "2            5.091079                        0.805153   \n",
      "3            2.247564                        5.600044   \n",
      "4           44.190936                        0.566486   \n",
      "\n",
      "   ratio_to_median_purchase_price  repeat_retailer  used_chip  \\\n",
      "0                        1.945940              1.0        1.0   \n",
      "1                        1.294219              1.0        0.0   \n",
      "2                        0.427715              1.0        0.0   \n",
      "3                        0.362663              1.0        1.0   \n",
      "4                        2.222767              1.0        1.0   \n",
      "\n",
      "   used_pin_number  online_order  fraud  \n",
      "0              0.0           0.0    0.0  \n",
      "1              0.0           0.0    0.0  \n",
      "2              0.0           1.0    0.0  \n",
      "3              0.0           1.0    0.0  \n",
      "4              0.0           1.0    0.0  \n",
      "(1000000, 8)\n"
     ]
    }
   ],
   "source": [
    "fname = \"./card_transdata.csv\"\n",
    "cardsData = pd.read_csv(fname)\n",
    "\n",
    "print(cardsData.head())\n",
    "print(cardsData.shape)"
   ]
  },
  {
   "cell_type": "code",
   "execution_count": 185,
   "id": "81f44286-008a-4fa4-a907-495a3c86c5c7",
   "metadata": {},
   "outputs": [
    {
     "name": "stdout",
     "output_type": "stream",
     "text": [
      "(995138, 8)\n",
      "(968756, 8)\n",
      "        distance_from_home  distance_from_last_transaction  \\\n",
      "0                57.877857                        0.311140   \n",
      "1                10.829943                        0.175592   \n",
      "2                 5.091079                        0.805153   \n",
      "3                 2.247564                        5.600044   \n",
      "4                44.190936                        0.566486   \n",
      "...                    ...                             ...   \n",
      "999995            2.207101                        0.112651   \n",
      "999996           19.872726                        2.683904   \n",
      "999997            2.914857                        1.472687   \n",
      "999998            4.258729                        0.242023   \n",
      "999999           58.108125                        0.318110   \n",
      "\n",
      "        ratio_to_median_purchase_price  repeat_retailer  used_chip  \\\n",
      "0                             1.945940              1.0        1.0   \n",
      "1                             1.294219              1.0        0.0   \n",
      "2                             0.427715              1.0        0.0   \n",
      "3                             0.362663              1.0        1.0   \n",
      "4                             2.222767              1.0        1.0   \n",
      "...                                ...              ...        ...   \n",
      "999995                        1.626798              1.0        1.0   \n",
      "999996                        2.778303              1.0        1.0   \n",
      "999997                        0.218075              1.0        1.0   \n",
      "999998                        0.475822              1.0        0.0   \n",
      "999999                        0.386920              1.0        1.0   \n",
      "\n",
      "        used_pin_number  online_order  \n",
      "0                   0.0           0.0  \n",
      "1                   0.0           0.0  \n",
      "2                   0.0           1.0  \n",
      "3                   0.0           1.0  \n",
      "4                   0.0           1.0  \n",
      "...                 ...           ...  \n",
      "999995              0.0           0.0  \n",
      "999996              0.0           0.0  \n",
      "999997              0.0           1.0  \n",
      "999998              0.0           1.0  \n",
      "999999              0.0           1.0  \n",
      "\n",
      "[968756 rows x 7 columns]\n"
     ]
    }
   ],
   "source": [
    "#labels = cardsData.columns.values\n",
    "from sklearn.preprocessing import StandardScaler\n",
    "\n",
    "cardsData = cardsData.loc[cardsData['ratio_to_median_purchase_price'] <= 17]\n",
    "print(cardsData.shape)\n",
    "cardsData = cardsData.loc[cardsData['distance_from_home'] <= 150]\n",
    "print(cardsData.shape)\n",
    "\n",
    "features = cardsData.copy()\n",
    "\n",
    "labels = features.pop('fraud')\n",
    "\n",
    "print(features)"
   ]
  },
  {
   "cell_type": "code",
   "execution_count": 186,
   "id": "a14120ac",
   "metadata": {},
   "outputs": [],
   "source": [
    "features = np.array(features)"
   ]
  },
  {
   "cell_type": "code",
   "execution_count": 187,
   "id": "3740a715",
   "metadata": {},
   "outputs": [],
   "source": [
    "from sklearn.model_selection import train_test_split\n",
    "\n",
    "x_train, x_test, y_train, y_test = train_test_split(features, labels, test_size = 0.2)"
   ]
  },
  {
   "cell_type": "code",
   "execution_count": 188,
   "id": "6fcb35f0",
   "metadata": {},
   "outputs": [
    {
     "name": "stdout",
     "output_type": "stream",
     "text": [
      "[[ 1.29940714  1.59443735  3.46710216 ...  0.          0.\n",
      "   1.        ]\n",
      " [40.78418184  4.80728145  3.06719971 ...  0.          0.\n",
      "   1.        ]\n",
      " [14.50011314  0.32981004  0.78091302 ...  0.          0.\n",
      "   1.        ]\n",
      " ...\n",
      " [15.41586467  5.79994914  0.40820516 ...  1.          0.\n",
      "   1.        ]\n",
      " [ 2.23666881  2.32582421  1.21989202 ...  1.          0.\n",
      "   1.        ]\n",
      " [16.97466195  0.52337585  0.1861598  ...  0.          0.\n",
      "   1.        ]]\n"
     ]
    }
   ],
   "source": [
    "print(x_train)"
   ]
  },
  {
   "cell_type": "code",
   "execution_count": 189,
   "id": "d351d4c2",
   "metadata": {},
   "outputs": [
    {
     "name": "stdout",
     "output_type": "stream",
     "text": [
      "(775004, 7)\n",
      "(193752, 7)\n",
      "(775004,)\n",
      "(193752,)\n"
     ]
    }
   ],
   "source": [
    "print(x_train.shape)\n",
    "print(x_test.shape)\n",
    "print(y_train.shape)\n",
    "print(y_test.shape)"
   ]
  },
  {
   "cell_type": "code",
   "execution_count": 190,
   "id": "dfdae61a",
   "metadata": {},
   "outputs": [],
   "source": [
    "import tensorflow as tf\n",
    "from tensorflow import keras\n",
    "from tensorflow.keras import layers"
   ]
  },
  {
   "cell_type": "code",
   "execution_count": 192,
   "id": "0d561dc2",
   "metadata": {},
   "outputs": [],
   "source": [
    "cards_model = tf.keras.Sequential([\n",
    "    keras.Input(shape=x_train.shape[1:]),\n",
    "    keras.layers.Dense(128, activation=\"relu\"),\n",
    "    keras.layers.Dense(128, activation=\"relu\"),\n",
    "    keras.layers.Dropout(0.3),\n",
    "    keras.layers.Dense(128, activation=\"relu\"),\n",
    "    keras.layers.Dropout(0.3),\n",
    "    keras.layers.Dense(1, activation=\"sigmoid\"),\n",
    "])"
   ]
  },
  {
   "cell_type": "code",
   "execution_count": 193,
   "id": "dcb4d9e2",
   "metadata": {},
   "outputs": [
    {
     "data": {
      "text/html": [
       "<pre style=\"white-space:pre;overflow-x:auto;line-height:normal;font-family:Menlo,'DejaVu Sans Mono',consolas,'Courier New',monospace\"><span style=\"font-weight: bold\">Model: \"sequential_18\"</span>\n",
       "</pre>\n"
      ],
      "text/plain": [
       "\u001b[1mModel: \"sequential_18\"\u001b[0m\n"
      ]
     },
     "metadata": {},
     "output_type": "display_data"
    },
    {
     "data": {
      "text/html": [
       "<pre style=\"white-space:pre;overflow-x:auto;line-height:normal;font-family:Menlo,'DejaVu Sans Mono',consolas,'Courier New',monospace\">┏━━━━━━━━━━━━━━━━━━━━━━━━━━━━━━━━━┳━━━━━━━━━━━━━━━━━━━━━━━━┳━━━━━━━━━━━━━━━┓\n",
       "┃<span style=\"font-weight: bold\"> Layer (type)                    </span>┃<span style=\"font-weight: bold\"> Output Shape           </span>┃<span style=\"font-weight: bold\">       Param # </span>┃\n",
       "┡━━━━━━━━━━━━━━━━━━━━━━━━━━━━━━━━━╇━━━━━━━━━━━━━━━━━━━━━━━━╇━━━━━━━━━━━━━━━┩\n",
       "│ dense_66 (<span style=\"color: #0087ff; text-decoration-color: #0087ff\">Dense</span>)                │ (<span style=\"color: #00d7ff; text-decoration-color: #00d7ff\">None</span>, <span style=\"color: #00af00; text-decoration-color: #00af00\">128</span>)            │         <span style=\"color: #00af00; text-decoration-color: #00af00\">1,024</span> │\n",
       "├─────────────────────────────────┼────────────────────────┼───────────────┤\n",
       "│ dense_67 (<span style=\"color: #0087ff; text-decoration-color: #0087ff\">Dense</span>)                │ (<span style=\"color: #00d7ff; text-decoration-color: #00d7ff\">None</span>, <span style=\"color: #00af00; text-decoration-color: #00af00\">128</span>)            │        <span style=\"color: #00af00; text-decoration-color: #00af00\">16,512</span> │\n",
       "├─────────────────────────────────┼────────────────────────┼───────────────┤\n",
       "│ dropout_32 (<span style=\"color: #0087ff; text-decoration-color: #0087ff\">Dropout</span>)            │ (<span style=\"color: #00d7ff; text-decoration-color: #00d7ff\">None</span>, <span style=\"color: #00af00; text-decoration-color: #00af00\">128</span>)            │             <span style=\"color: #00af00; text-decoration-color: #00af00\">0</span> │\n",
       "├─────────────────────────────────┼────────────────────────┼───────────────┤\n",
       "│ dense_68 (<span style=\"color: #0087ff; text-decoration-color: #0087ff\">Dense</span>)                │ (<span style=\"color: #00d7ff; text-decoration-color: #00d7ff\">None</span>, <span style=\"color: #00af00; text-decoration-color: #00af00\">128</span>)            │        <span style=\"color: #00af00; text-decoration-color: #00af00\">16,512</span> │\n",
       "├─────────────────────────────────┼────────────────────────┼───────────────┤\n",
       "│ dropout_33 (<span style=\"color: #0087ff; text-decoration-color: #0087ff\">Dropout</span>)            │ (<span style=\"color: #00d7ff; text-decoration-color: #00d7ff\">None</span>, <span style=\"color: #00af00; text-decoration-color: #00af00\">128</span>)            │             <span style=\"color: #00af00; text-decoration-color: #00af00\">0</span> │\n",
       "├─────────────────────────────────┼────────────────────────┼───────────────┤\n",
       "│ dense_69 (<span style=\"color: #0087ff; text-decoration-color: #0087ff\">Dense</span>)                │ (<span style=\"color: #00d7ff; text-decoration-color: #00d7ff\">None</span>, <span style=\"color: #00af00; text-decoration-color: #00af00\">1</span>)              │           <span style=\"color: #00af00; text-decoration-color: #00af00\">129</span> │\n",
       "└─────────────────────────────────┴────────────────────────┴───────────────┘\n",
       "</pre>\n"
      ],
      "text/plain": [
       "┏━━━━━━━━━━━━━━━━━━━━━━━━━━━━━━━━━┳━━━━━━━━━━━━━━━━━━━━━━━━┳━━━━━━━━━━━━━━━┓\n",
       "┃\u001b[1m \u001b[0m\u001b[1mLayer (type)                   \u001b[0m\u001b[1m \u001b[0m┃\u001b[1m \u001b[0m\u001b[1mOutput Shape          \u001b[0m\u001b[1m \u001b[0m┃\u001b[1m \u001b[0m\u001b[1m      Param #\u001b[0m\u001b[1m \u001b[0m┃\n",
       "┡━━━━━━━━━━━━━━━━━━━━━━━━━━━━━━━━━╇━━━━━━━━━━━━━━━━━━━━━━━━╇━━━━━━━━━━━━━━━┩\n",
       "│ dense_66 (\u001b[38;5;33mDense\u001b[0m)                │ (\u001b[38;5;45mNone\u001b[0m, \u001b[38;5;34m128\u001b[0m)            │         \u001b[38;5;34m1,024\u001b[0m │\n",
       "├─────────────────────────────────┼────────────────────────┼───────────────┤\n",
       "│ dense_67 (\u001b[38;5;33mDense\u001b[0m)                │ (\u001b[38;5;45mNone\u001b[0m, \u001b[38;5;34m128\u001b[0m)            │        \u001b[38;5;34m16,512\u001b[0m │\n",
       "├─────────────────────────────────┼────────────────────────┼───────────────┤\n",
       "│ dropout_32 (\u001b[38;5;33mDropout\u001b[0m)            │ (\u001b[38;5;45mNone\u001b[0m, \u001b[38;5;34m128\u001b[0m)            │             \u001b[38;5;34m0\u001b[0m │\n",
       "├─────────────────────────────────┼────────────────────────┼───────────────┤\n",
       "│ dense_68 (\u001b[38;5;33mDense\u001b[0m)                │ (\u001b[38;5;45mNone\u001b[0m, \u001b[38;5;34m128\u001b[0m)            │        \u001b[38;5;34m16,512\u001b[0m │\n",
       "├─────────────────────────────────┼────────────────────────┼───────────────┤\n",
       "│ dropout_33 (\u001b[38;5;33mDropout\u001b[0m)            │ (\u001b[38;5;45mNone\u001b[0m, \u001b[38;5;34m128\u001b[0m)            │             \u001b[38;5;34m0\u001b[0m │\n",
       "├─────────────────────────────────┼────────────────────────┼───────────────┤\n",
       "│ dense_69 (\u001b[38;5;33mDense\u001b[0m)                │ (\u001b[38;5;45mNone\u001b[0m, \u001b[38;5;34m1\u001b[0m)              │           \u001b[38;5;34m129\u001b[0m │\n",
       "└─────────────────────────────────┴────────────────────────┴───────────────┘\n"
      ]
     },
     "metadata": {},
     "output_type": "display_data"
    },
    {
     "data": {
      "text/html": [
       "<pre style=\"white-space:pre;overflow-x:auto;line-height:normal;font-family:Menlo,'DejaVu Sans Mono',consolas,'Courier New',monospace\"><span style=\"font-weight: bold\"> Total params: </span><span style=\"color: #00af00; text-decoration-color: #00af00\">34,177</span> (133.50 KB)\n",
       "</pre>\n"
      ],
      "text/plain": [
       "\u001b[1m Total params: \u001b[0m\u001b[38;5;34m34,177\u001b[0m (133.50 KB)\n"
      ]
     },
     "metadata": {},
     "output_type": "display_data"
    },
    {
     "data": {
      "text/html": [
       "<pre style=\"white-space:pre;overflow-x:auto;line-height:normal;font-family:Menlo,'DejaVu Sans Mono',consolas,'Courier New',monospace\"><span style=\"font-weight: bold\"> Trainable params: </span><span style=\"color: #00af00; text-decoration-color: #00af00\">34,177</span> (133.50 KB)\n",
       "</pre>\n"
      ],
      "text/plain": [
       "\u001b[1m Trainable params: \u001b[0m\u001b[38;5;34m34,177\u001b[0m (133.50 KB)\n"
      ]
     },
     "metadata": {},
     "output_type": "display_data"
    },
    {
     "data": {
      "text/html": [
       "<pre style=\"white-space:pre;overflow-x:auto;line-height:normal;font-family:Menlo,'DejaVu Sans Mono',consolas,'Courier New',monospace\"><span style=\"font-weight: bold\"> Non-trainable params: </span><span style=\"color: #00af00; text-decoration-color: #00af00\">0</span> (0.00 B)\n",
       "</pre>\n"
      ],
      "text/plain": [
       "\u001b[1m Non-trainable params: \u001b[0m\u001b[38;5;34m0\u001b[0m (0.00 B)\n"
      ]
     },
     "metadata": {},
     "output_type": "display_data"
    }
   ],
   "source": [
    "metrics = [\n",
    "    keras.metrics.FalseNegatives(name=\"fn\"),\n",
    "    keras.metrics.FalsePositives(name=\"fp\"),\n",
    "    keras.metrics.TrueNegatives(name=\"tn\"),\n",
    "    keras.metrics.TruePositives(name=\"tp\"),\n",
    "    keras.metrics.Precision(name=\"precision\"),\n",
    "    keras.metrics.Recall(name=\"recall\"),\n",
    "    keras.metrics.Accuracy(name=\"accuracy\")\n",
    "]\n",
    "\n",
    "cards_model.compile(\n",
    "    loss = keras.losses.BinaryCrossentropy(),\n",
    "    optimizer = keras.optimizers.Adam(),\n",
    "    metrics = metrics)\n",
    "\n",
    "cards_model.summary()"
   ]
  },
  {
   "cell_type": "code",
   "execution_count": 194,
   "id": "df1e1965",
   "metadata": {},
   "outputs": [
    {
     "name": "stdout",
     "output_type": "stream",
     "text": [
      "Epoch 1/25\n",
      "\u001b[1m20587/20587\u001b[0m \u001b[32m━━━━━━━━━━━━━━━━━━━━\u001b[0m\u001b[37m\u001b[0m \u001b[1m16s\u001b[0m 716us/step - accuracy: 0.0012 - fn: 4436.1831 - fp: 2420.1335 - loss: 0.0758 - precision: 0.8517 - recall: 0.7605 - tn: 301756.8125 - tp: 20138.8438 - val_accuracy: 0.0100 - val_fn: 376.0000 - val_fp: 701.0000 - val_loss: 0.0214 - val_precision: 0.9223 - val_recall: 0.9567 - val_tn: 106858.0000 - val_tp: 8316.0000\n",
      "Epoch 2/25\n",
      "\u001b[1m20587/20587\u001b[0m \u001b[32m━━━━━━━━━━━━━━━━━━━━\u001b[0m\u001b[37m\u001b[0m \u001b[1m14s\u001b[0m 699us/step - accuracy: 0.0135 - fn: 1441.2970 - fp: 1104.0337 - loss: 0.0206 - precision: 0.9533 - recall: 0.9397 - tn: 303306.4688 - tp: 23236.8496 - val_accuracy: 0.0560 - val_fn: 232.0000 - val_fp: 345.0000 - val_loss: 0.0118 - val_precision: 0.9608 - val_recall: 0.9733 - val_tn: 107214.0000 - val_tp: 8460.0000\n",
      "Epoch 3/25\n",
      "\u001b[1m20587/20587\u001b[0m \u001b[32m━━━━━━━━━━━━━━━━━━━━\u001b[0m\u001b[37m\u001b[0m \u001b[1m14s\u001b[0m 687us/step - accuracy: 0.0429 - fn: 1295.9954 - fp: 877.8876 - loss: 0.0180 - precision: 0.9646 - recall: 0.9474 - tn: 304060.4688 - tp: 23385.9512 - val_accuracy: 0.0738 - val_fn: 138.0000 - val_fp: 171.0000 - val_loss: 0.0091 - val_precision: 0.9804 - val_recall: 0.9841 - val_tn: 107388.0000 - val_tp: 8554.0000\n",
      "Epoch 4/25\n",
      "\u001b[1m20587/20587\u001b[0m \u001b[32m━━━━━━━━━━━━━━━━━━━━\u001b[0m\u001b[37m\u001b[0m \u001b[1m14s\u001b[0m 702us/step - accuracy: 0.1278 - fn: 1105.0564 - fp: 823.2769 - loss: 0.0151 - precision: 0.9654 - recall: 0.9550 - tn: 303849.8750 - tp: 23500.8750 - val_accuracy: 0.2588 - val_fn: 423.0000 - val_fp: 135.0000 - val_loss: 0.0126 - val_precision: 0.9839 - val_recall: 0.9513 - val_tn: 107424.0000 - val_tp: 8269.0000\n",
      "Epoch 5/25\n",
      "\u001b[1m20587/20587\u001b[0m \u001b[32m━━━━━━━━━━━━━━━━━━━━\u001b[0m\u001b[37m\u001b[0m \u001b[1m17s\u001b[0m 822us/step - accuracy: 0.1999 - fn: 1078.1162 - fp: 740.1591 - loss: 0.0144 - precision: 0.9695 - recall: 0.9567 - tn: 304548.9688 - tp: 23561.1035 - val_accuracy: 0.3101 - val_fn: 424.0000 - val_fp: 145.0000 - val_loss: 0.0122 - val_precision: 0.9828 - val_recall: 0.9512 - val_tn: 107414.0000 - val_tp: 8268.0000\n",
      "Epoch 6/25\n",
      "\u001b[1m20587/20587\u001b[0m \u001b[32m━━━━━━━━━━━━━━━━━━━━\u001b[0m\u001b[37m\u001b[0m \u001b[1m16s\u001b[0m 772us/step - accuracy: 0.3203 - fn: 1089.1505 - fp: 669.5090 - loss: 0.0143 - precision: 0.9719 - recall: 0.9553 - tn: 303746.8750 - tp: 23542.1992 - val_accuracy: 0.4178 - val_fn: 115.0000 - val_fp: 282.0000 - val_loss: 0.0088 - val_precision: 0.9682 - val_recall: 0.9868 - val_tn: 107277.0000 - val_tp: 8577.0000\n",
      "Epoch 7/25\n",
      "\u001b[1m20587/20587\u001b[0m \u001b[32m━━━━━━━━━━━━━━━━━━━━\u001b[0m\u001b[37m\u001b[0m \u001b[1m15s\u001b[0m 751us/step - accuracy: 0.4206 - fn: 1061.7701 - fp: 646.9141 - loss: 0.0141 - precision: 0.9732 - recall: 0.9565 - tn: 303959.5312 - tp: 23666.2539 - val_accuracy: 0.3030 - val_fn: 380.0000 - val_fp: 47.0000 - val_loss: 0.0085 - val_precision: 0.9944 - val_recall: 0.9563 - val_tn: 107512.0000 - val_tp: 8312.0000\n",
      "Epoch 8/25\n",
      "\u001b[1m20587/20587\u001b[0m \u001b[32m━━━━━━━━━━━━━━━━━━━━\u001b[0m\u001b[37m\u001b[0m \u001b[1m16s\u001b[0m 782us/step - accuracy: 0.5204 - fn: 979.8209 - fp: 627.7090 - loss: 0.0134 - precision: 0.9736 - recall: 0.9599 - tn: 303994.5625 - tp: 23627.9785 - val_accuracy: 0.6281 - val_fn: 319.0000 - val_fp: 47.0000 - val_loss: 0.0077 - val_precision: 0.9944 - val_recall: 0.9633 - val_tn: 107512.0000 - val_tp: 8373.0000\n",
      "Epoch 9/25\n",
      "\u001b[1m20587/20587\u001b[0m \u001b[32m━━━━━━━━━━━━━━━━━━━━\u001b[0m\u001b[37m\u001b[0m \u001b[1m16s\u001b[0m 790us/step - accuracy: 0.6516 - fn: 1015.8227 - fp: 637.9016 - loss: 0.0135 - precision: 0.9745 - recall: 0.9589 - tn: 304507.9375 - tp: 23662.3965 - val_accuracy: 0.4870 - val_fn: 184.0000 - val_fp: 135.0000 - val_loss: 0.0100 - val_precision: 0.9844 - val_recall: 0.9788 - val_tn: 107424.0000 - val_tp: 8508.0000\n",
      "Epoch 10/25\n",
      "\u001b[1m20587/20587\u001b[0m \u001b[32m━━━━━━━━━━━━━━━━━━━━\u001b[0m\u001b[37m\u001b[0m \u001b[1m18s\u001b[0m 887us/step - accuracy: 0.5709 - fn: 918.1546 - fp: 595.0313 - loss: 0.0126 - precision: 0.9760 - recall: 0.9634 - tn: 304468.3125 - tp: 23907.1758 - val_accuracy: 0.7516 - val_fn: 235.0000 - val_fp: 140.0000 - val_loss: 0.0077 - val_precision: 0.9837 - val_recall: 0.9730 - val_tn: 107419.0000 - val_tp: 8457.0000\n",
      "Epoch 11/25\n",
      "\u001b[1m20587/20587\u001b[0m \u001b[32m━━━━━━━━━━━━━━━━━━━━\u001b[0m\u001b[37m\u001b[0m \u001b[1m19s\u001b[0m 900us/step - accuracy: 0.6229 - fn: 939.6037 - fp: 520.7010 - loss: 0.0124 - precision: 0.9786 - recall: 0.9616 - tn: 304133.7188 - tp: 23618.4297 - val_accuracy: 0.6732 - val_fn: 287.0000 - val_fp: 42.0000 - val_loss: 0.0074 - val_precision: 0.9950 - val_recall: 0.9670 - val_tn: 107517.0000 - val_tp: 8405.0000\n",
      "Epoch 12/25\n",
      "\u001b[1m20587/20587\u001b[0m \u001b[32m━━━━━━━━━━━━━━━━━━━━\u001b[0m\u001b[37m\u001b[0m \u001b[1m21s\u001b[0m 1ms/step - accuracy: 0.6886 - fn: 964.3271 - fp: 526.6667 - loss: 0.0126 - precision: 0.9779 - recall: 0.9601 - tn: 304794.0625 - tp: 23694.9121 - val_accuracy: 0.5513 - val_fn: 810.0000 - val_fp: 24.0000 - val_loss: 0.0160 - val_precision: 0.9970 - val_recall: 0.9068 - val_tn: 107535.0000 - val_tp: 7882.0000\n",
      "Epoch 13/25\n",
      "\u001b[1m20587/20587\u001b[0m \u001b[32m━━━━━━━━━━━━━━━━━━━━\u001b[0m\u001b[37m\u001b[0m \u001b[1m23s\u001b[0m 1ms/step - accuracy: 0.7015 - fn: 981.7657 - fp: 518.9887 - loss: 0.0125 - precision: 0.9788 - recall: 0.9603 - tn: 304458.5938 - tp: 23669.9102 - val_accuracy: 0.6834 - val_fn: 258.0000 - val_fp: 24.0000 - val_loss: 0.0062 - val_precision: 0.9972 - val_recall: 0.9703 - val_tn: 107535.0000 - val_tp: 8434.0000\n",
      "Epoch 14/25\n",
      "\u001b[1m20587/20587\u001b[0m \u001b[32m━━━━━━━━━━━━━━━━━━━━\u001b[0m\u001b[37m\u001b[0m \u001b[1m22s\u001b[0m 1ms/step - accuracy: 0.7373 - fn: 959.2737 - fp: 512.9759 - loss: 0.0131 - precision: 0.9786 - recall: 0.9620 - tn: 303517.2500 - tp: 23711.9043 - val_accuracy: 0.6598 - val_fn: 315.0000 - val_fp: 92.0000 - val_loss: 0.0087 - val_precision: 0.9891 - val_recall: 0.9638 - val_tn: 107467.0000 - val_tp: 8377.0000\n",
      "Epoch 15/25\n",
      "\u001b[1m20587/20587\u001b[0m \u001b[32m━━━━━━━━━━━━━━━━━━━━\u001b[0m\u001b[37m\u001b[0m \u001b[1m20s\u001b[0m 948us/step - accuracy: 0.6743 - fn: 961.9464 - fp: 463.6124 - loss: 0.0123 - precision: 0.9807 - recall: 0.9608 - tn: 303513.8125 - tp: 23703.6855 - val_accuracy: 0.7794 - val_fn: 451.0000 - val_fp: 15.0000 - val_loss: 0.0092 - val_precision: 0.9982 - val_recall: 0.9481 - val_tn: 107544.0000 - val_tp: 8241.0000\n",
      "Epoch 16/25\n",
      "\u001b[1m20587/20587\u001b[0m \u001b[32m━━━━━━━━━━━━━━━━━━━━\u001b[0m\u001b[37m\u001b[0m \u001b[1m19s\u001b[0m 924us/step - accuracy: 0.7098 - fn: 861.1075 - fp: 470.8409 - loss: 0.0113 - precision: 0.9805 - recall: 0.9662 - tn: 304844.5938 - tp: 23858.5352 - val_accuracy: 0.7283 - val_fn: 197.0000 - val_fp: 52.0000 - val_loss: 0.0063 - val_precision: 0.9939 - val_recall: 0.9773 - val_tn: 107507.0000 - val_tp: 8495.0000\n",
      "Epoch 17/25\n",
      "\u001b[1m20587/20587\u001b[0m \u001b[32m━━━━━━━━━━━━━━━━━━━━\u001b[0m\u001b[37m\u001b[0m \u001b[1m20s\u001b[0m 974us/step - accuracy: 0.6785 - fn: 853.6255 - fp: 440.6428 - loss: 0.0107 - precision: 0.9819 - recall: 0.9656 - tn: 304977.1875 - tp: 23818.9336 - val_accuracy: 0.6622 - val_fn: 195.0000 - val_fp: 359.0000 - val_loss: 0.0129 - val_precision: 0.9595 - val_recall: 0.9776 - val_tn: 107200.0000 - val_tp: 8497.0000\n",
      "Epoch 18/25\n",
      "\u001b[1m20587/20587\u001b[0m \u001b[32m━━━━━━━━━━━━━━━━━━━━\u001b[0m\u001b[37m\u001b[0m \u001b[1m20s\u001b[0m 991us/step - accuracy: 0.6931 - fn: 823.3209 - fp: 478.0717 - loss: 0.0115 - precision: 0.9798 - recall: 0.9666 - tn: 303788.4688 - tp: 23844.8906 - val_accuracy: 0.4941 - val_fn: 302.0000 - val_fp: 126.0000 - val_loss: 0.0088 - val_precision: 0.9852 - val_recall: 0.9653 - val_tn: 107433.0000 - val_tp: 8390.0000\n",
      "Epoch 19/25\n",
      "\u001b[1m20587/20587\u001b[0m \u001b[32m━━━━━━━━━━━━━━━━━━━━\u001b[0m\u001b[37m\u001b[0m \u001b[1m19s\u001b[0m 934us/step - accuracy: 0.6805 - fn: 882.1705 - fp: 432.3888 - loss: 0.0114 - precision: 0.9820 - recall: 0.9637 - tn: 304805.0625 - tp: 23764.9941 - val_accuracy: 0.7717 - val_fn: 155.0000 - val_fp: 141.0000 - val_loss: 0.0076 - val_precision: 0.9838 - val_recall: 0.9822 - val_tn: 107418.0000 - val_tp: 8537.0000\n",
      "Epoch 20/25\n",
      "\u001b[1m20587/20587\u001b[0m \u001b[32m━━━━━━━━━━━━━━━━━━━━\u001b[0m\u001b[37m\u001b[0m \u001b[1m19s\u001b[0m 910us/step - accuracy: 0.7242 - fn: 845.5999 - fp: 430.4766 - loss: 0.0106 - precision: 0.9825 - recall: 0.9661 - tn: 304274.2812 - tp: 23802.9219 - val_accuracy: 0.7366 - val_fn: 158.0000 - val_fp: 79.0000 - val_loss: 0.0049 - val_precision: 0.9908 - val_recall: 0.9818 - val_tn: 107480.0000 - val_tp: 8534.0000\n",
      "Epoch 21/25\n",
      "\u001b[1m20587/20587\u001b[0m \u001b[32m━━━━━━━━━━━━━━━━━━━━\u001b[0m\u001b[37m\u001b[0m \u001b[1m19s\u001b[0m 909us/step - accuracy: 0.7328 - fn: 806.4575 - fp: 459.1004 - loss: 0.0106 - precision: 0.9809 - recall: 0.9673 - tn: 303834.6250 - tp: 23872.2578 - val_accuracy: 0.8457 - val_fn: 333.0000 - val_fp: 18.0000 - val_loss: 0.0073 - val_precision: 0.9979 - val_recall: 0.9617 - val_tn: 107541.0000 - val_tp: 8359.0000\n",
      "Epoch 22/25\n",
      "\u001b[1m20587/20587\u001b[0m \u001b[32m━━━━━━━━━━━━━━━━━━━━\u001b[0m\u001b[37m\u001b[0m \u001b[1m18s\u001b[0m 882us/step - accuracy: 0.7629 - fn: 810.1256 - fp: 401.8419 - loss: 0.0108 - precision: 0.9839 - recall: 0.9671 - tn: 304411.8125 - tp: 23724.6934 - val_accuracy: 0.8288 - val_fn: 180.0000 - val_fp: 129.0000 - val_loss: 0.0062 - val_precision: 0.9851 - val_recall: 0.9793 - val_tn: 107430.0000 - val_tp: 8512.0000\n",
      "Epoch 23/25\n",
      "\u001b[1m20587/20587\u001b[0m \u001b[32m━━━━━━━━━━━━━━━━━━━━\u001b[0m\u001b[37m\u001b[0m \u001b[1m19s\u001b[0m 914us/step - accuracy: 0.7821 - fn: 810.2405 - fp: 446.2156 - loss: 0.0114 - precision: 0.9821 - recall: 0.9673 - tn: 303935.2812 - tp: 23838.1699 - val_accuracy: 0.6457 - val_fn: 774.0000 - val_fp: 16.0000 - val_loss: 0.0234 - val_precision: 0.9980 - val_recall: 0.9110 - val_tn: 107543.0000 - val_tp: 7918.0000\n",
      "Epoch 24/25\n",
      "\u001b[1m20587/20587\u001b[0m \u001b[32m━━━━━━━━━━━━━━━━━━━━\u001b[0m\u001b[37m\u001b[0m \u001b[1m27s\u001b[0m 1ms/step - accuracy: 0.7484 - fn: 816.5927 - fp: 427.8128 - loss: 0.0111 - precision: 0.9827 - recall: 0.9669 - tn: 305156.5625 - tp: 23826.7031 - val_accuracy: 0.8355 - val_fn: 223.0000 - val_fp: 107.0000 - val_loss: 0.0074 - val_precision: 0.9875 - val_recall: 0.9743 - val_tn: 107452.0000 - val_tp: 8469.0000\n",
      "Epoch 25/25\n",
      "\u001b[1m20587/20587\u001b[0m \u001b[32m━━━━━━━━━━━━━━━━━━━━\u001b[0m\u001b[37m\u001b[0m \u001b[1m44s\u001b[0m 2ms/step - accuracy: 0.7760 - fn: 813.8043 - fp: 425.5337 - loss: 0.0111 - precision: 0.9832 - recall: 0.9677 - tn: 304836.3125 - tp: 23955.6016 - val_accuracy: 0.7653 - val_fn: 272.0000 - val_fp: 58.0000 - val_loss: 0.0065 - val_precision: 0.9932 - val_recall: 0.9687 - val_tn: 107501.0000 - val_tp: 8420.0000\n"
     ]
    }
   ],
   "source": [
    "history = cards_model.fit(\n",
    "    x_train, \n",
    "    y_train, \n",
    "    epochs=25,\n",
    "    validation_split = 0.15)"
   ]
  },
  {
   "cell_type": "code",
   "execution_count": 195,
   "id": "464c6f38",
   "metadata": {},
   "outputs": [
    {
     "name": "stdout",
     "output_type": "stream",
     "text": [
      "Test score: 0.007244396489113569\n",
      "Test accuracy: 527.0\n"
     ]
    }
   ],
   "source": [
    "score = cards_model.evaluate(x_test, y_test, verbose=0) \n",
    "print('Test score:', score[0]) \n",
    "print('Test accuracy:', score[1])"
   ]
  },
  {
   "cell_type": "code",
   "execution_count": 196,
   "id": "5e738b9d",
   "metadata": {},
   "outputs": [
    {
     "data": {
      "text/plain": [
       "dict_keys(['accuracy', 'fn', 'fp', 'loss', 'precision', 'recall', 'tn', 'tp', 'val_accuracy', 'val_fn', 'val_fp', 'val_loss', 'val_precision', 'val_recall', 'val_tn', 'val_tp'])"
      ]
     },
     "execution_count": 196,
     "metadata": {},
     "output_type": "execute_result"
    }
   ],
   "source": [
    "history_dict = history.history\n",
    "history_dict.keys()"
   ]
  },
  {
   "cell_type": "code",
   "execution_count": 197,
   "id": "af29f69c",
   "metadata": {},
   "outputs": [
    {
     "data": {
      "image/png": "[encoded data removed]",
      "text/plain": [
       "<Figure size 640x480 with 1 Axes>"
      ]
     },
     "metadata": {},
     "output_type": "display_data"
    }
   ],
   "source": [
    "loss_values = history_dict[\"loss\"]\n",
    "val_loss_values = history_dict[\"val_loss\"]\n",
    "epochs = range(1, len(loss_values) + 1)\n",
    "plt.plot(epochs, loss_values, \"bo\", label=\"Training loss\")\n",
    "plt.plot(epochs, val_loss_values, \"b\", label=\"Validation loss\")\n",
    "plt.title(\"Training and validation loss\")\n",
    "plt.xlabel(\"Epochs\")\n",
    "plt.ylabel(\"Loss\")\n",
    "plt.legend()\n",
    "plt.show()"
   ]
  },
  {
   "cell_type": "code",
   "execution_count": null,
   "id": "03ffd857",
   "metadata": {},
   "outputs": [],
   "source": []
  }
 ],
 "metadata": {
  "kernelspec": {
   "display_name": "Python 3 (ipykernel)",
   "language": "python",
   "name": "python3"
  },
  "language_info": {
   "codemirror_mode": {
    "name": "ipython",
    "version": 3
   },
   "file_extension": ".py",
   "mimetype": "text/x-python",
   "name": "python",
   "nbconvert_exporter": "python",
   "pygments_lexer": "ipython3",
   "version": "3.10.6"
  }
 },
 "nbformat": 4,
 "nbformat_minor": 5
}
